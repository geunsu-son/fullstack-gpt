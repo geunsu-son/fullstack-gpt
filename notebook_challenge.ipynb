{
 "cells": [
  {
   "cell_type": "code",
   "execution_count": 5,
   "metadata": {},
   "outputs": [],
   "source": [
    "from langchain.chat_models import ChatOpenAI\n",
    "from langchain.document_loaders import UnstructuredFileLoader\n",
    "from langchain.text_splitter import CharacterTextSplitter\n",
    "from langchain.embeddings import OpenAIEmbeddings, CacheBackedEmbeddings\n",
    "from langchain.vectorstores import FAISS\n",
    "from langchain.storage import LocalFileStore\n",
    "from langchain.prompts import ChatPromptTemplate\n",
    "from langchain.schema.runnable import RunnablePassthrough\n",
    "from langchain.memory import ConversationBufferMemory\n",
    "from langchain.chains import ConversationalRetrievalChain\n",
    "\n",
    "llm = ChatOpenAI(temperature=0.1)\n",
    "\n",
    "cache_dir = LocalFileStore(\"./.cache/private_files\")\n",
    "\n",
    "splitter = CharacterTextSplitter.from_tiktoken_encoder(\n",
    "    separator=\"\\n\",\n",
    "    chunk_size=600,\n",
    "    chunk_overlap=100,\n",
    ")\n",
    "\n",
    "loader = UnstructuredFileLoader(\".cache/files/chapter_three.txt\")  # 과제의 문서 경로로 변경\n",
    "docs = loader.load_and_split(text_splitter=splitter)\n",
    "\n",
    "embeddings = OpenAIEmbeddings()\n",
    "cached_embeddings = CacheBackedEmbeddings.from_bytes_store(embeddings, cache_dir)\n",
    "\n",
    "vectorstore = FAISS.from_documents(docs, cached_embeddings)\n",
    "retriever = vectorstore.as_retriever()\n",
    "\n",
    "memory = ConversationBufferMemory(memory_key=\"chat_history\", return_messages=True)\n",
    "\n",
    "prompt = ChatPromptTemplate.from_messages([\n",
    "    (\"system\", \"다음의 컨텍스트를 기반으로 답변하세요:\\n\\n{context}\"),\n",
    "    (\"human\", \"{question}\")\n",
    "])\n",
    "\n",
    "chain = (\n",
    "    {\n",
    "        \"context\": retriever,\n",
    "        \"question\": RunnablePassthrough(),\n",
    "    }\n",
    "    | prompt\n",
    "    | llm\n",
    ")"
   ]
  },
  {
   "cell_type": "code",
   "execution_count": null,
   "metadata": {},
   "outputs": [
    {
     "name": "stdout",
     "output_type": "stream",
     "text": [
      "질문: Aaronson은 유죄인가요?\n",
      "답변: 아론슨(Aaronson)이 유죄인지 여부에 대해 명확한 정보가 제공되지 않았습니다. 아론슨은 조지 오웰의 소설 '1984'에서 중요한 인물 중 하나로 등장합니다. 이 소설에서는 파티의 강제적인 통제와 인간의 자유를 향한 저항이 주요 주제로 다루어지는데, 아론슨과 같은 인물들이 어떤 운명을 맞이했는지에 대한 자세한 내용이 제공되지 않습니다. 따라서 아론슨이 유죄인지 여부에 대해서는 명확한 답변을 제공할 수 없습니다.\n"
     ]
    }
   ],
   "source": [
    "question = \"Aaronson은 유죄인가요?\"\n",
    "\n",
    "result = chain.invoke(question)\n",
    "print(f\"질문: {question}\")\n",
    "print(f\"답변: {result.content}\")"
   ]
  },
  {
   "cell_type": "code",
   "execution_count": 9,
   "metadata": {},
   "outputs": [
    {
     "name": "stdout",
     "output_type": "stream",
     "text": [
      "질문: 그가 테이블에 어떤 메시지를 썼나요?\n",
      "답변: 그가 테이블에 쓴 메시지는 다음과 같습니다:\n",
      "\n",
      "FREEDOM IS SLAVERY\n",
      "TWO AND TWO MAKE FIVE\n",
      "GOD IS POWER\n"
     ]
    }
   ],
   "source": [
    "question = \"그가 테이블에 어떤 메시지를 썼나요?\"\n",
    "\n",
    "result = chain.invoke(question)\n",
    "print(f\"질문: {question}\")\n",
    "print(f\"답변: {result.content}\")"
   ]
  },
  {
   "cell_type": "code",
   "execution_count": 10,
   "metadata": {},
   "outputs": [
    {
     "name": "stdout",
     "output_type": "stream",
     "text": [
      "질문: Julia는 누구인가요?\n",
      "답변: Julia는 주인공인 윈스턴이 사랑하는 여성 캐릭터입니다. 이 문서에서는 윈스턴이 그녀를 사랑하고 그녀를 도우려는 강한 욕망을 느끼는 모습이 묘사되어 있습니다. 그러나 이 사랑과 욕망은 파티의 통제와 감시 속에서 어려움을 겪게 됩니다.\n"
     ]
    }
   ],
   "source": [
    "question = \"Julia는 누구인가요?\"\n",
    "\n",
    "result = chain.invoke(question)\n",
    "print(f\"질문: {question}\")\n",
    "print(f\"답변: {result.content}\")"
   ]
  }
 ],
 "metadata": {
  "kernelspec": {
   "display_name": "env",
   "language": "python",
   "name": "python3"
  },
  "language_info": {
   "codemirror_mode": {
    "name": "ipython",
    "version": 3
   },
   "file_extension": ".py",
   "mimetype": "text/x-python",
   "name": "python",
   "nbconvert_exporter": "python",
   "pygments_lexer": "ipython3",
   "version": "3.11.6"
  }
 },
 "nbformat": 4,
 "nbformat_minor": 2
}
