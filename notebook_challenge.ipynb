{
 "cells": [
  {
   "cell_type": "code",
   "execution_count": 1,
   "metadata": {},
   "outputs": [],
   "source": [
    "from langchain.memory import ConversationSummaryBufferMemory\n",
    "from langchain.chat_models import ChatOpenAI\n",
    "from langchain.schema.runnable import RunnablePassthrough\n",
    "from langchain.prompts import PromptTemplate, ChatPromptTemplate, MessagesPlaceholder, FewShotChatMessagePromptTemplate\n",
    "from langchain.prompts.example_selector import LengthBasedExampleSelector\n",
    "\n",
    "llm = ChatOpenAI(temperature=0.1)\n",
    "\n",
    "memory = ConversationSummaryBufferMemory(\n",
    "    llm=llm,\n",
    "    max_token_limit=120,\n",
    "    return_messages=True,\n",
    ")\n",
    "\n",
    "# 예시 설정\n",
    "examples = [\n",
    "    {\"movie\": \"탑건\", \"emojis\": \"🛩️👨‍✈️🔥\"},\n",
    "    {\"movie\": \"대부\", \"emojis\": \"👨‍👨‍👦🔫🍝\"},\n",
    "    {\"movie\": \"해리포터\", \"emojis\": \"🧙‍♂️⚡🦉\"},\n",
    "    {\"movie\": \"타이타닉\", \"emojis\": \"🚢🌊💑\"},\n",
    "]\n",
    "\n",
    "example_selector = LengthBasedExampleSelector(\n",
    "    examples=examples,\n",
    "    example_prompt=PromptTemplate(\n",
    "        input_variables=[\"movie\", \"emojis\"],\n",
    "        template=\"Human: {movie}\\nAI: {emojis}\"\n",
    "    ),\n",
    "    max_length=50,\n",
    ")\n",
    "\n",
    "few_shot_prompt = FewShotChatMessagePromptTemplate(\n",
    "    example_selector=example_selector,\n",
    "    example_prompt=ChatPromptTemplate.from_messages(\n",
    "        [(\"human\", \"{movie}\"), (\"ai\", \"{emojis}\")]\n",
    "    ),\n",
    ")\n",
    "\n",
    "prompt = ChatPromptTemplate.from_messages(\n",
    "    [\n",
    "        (\"system\", \"You are an AI assistant that responds with exactly three emojis representing movies. If you ask the movie you asked before, please answer only the title of the movie and the 3 emojis you expressed.\"),\n",
    "        MessagesPlaceholder(variable_name=\"history\"),\n",
    "        few_shot_prompt,\n",
    "        (\"human\", \"{question}\"),\n",
    "    ]\n",
    ")\n",
    "\n",
    "\n",
    "def load_memory(_):\n",
    "    return memory.load_memory_variables({})[\"history\"]\n",
    "\n",
    "\n",
    "chain = RunnablePassthrough.assign(history=load_memory) | prompt | llm\n",
    "\n",
    "\n",
    "def invoke_chain(movie_name):\n",
    "    result = chain.invoke({\"question\": movie_name})\n",
    "    memory.save_context(\n",
    "        {\"input\": movie_name},\n",
    "        {\"output\": result.content},\n",
    "    )\n",
    "    print(result.content)"
   ]
  },
  {
   "cell_type": "code",
   "execution_count": 2,
   "metadata": {},
   "outputs": [
    {
     "name": "stdout",
     "output_type": "stream",
     "text": [
      "💊💻🕶️\n"
     ]
    }
   ],
   "source": [
    "invoke_chain(\"매트릭스\")"
   ]
  },
  {
   "cell_type": "code",
   "execution_count": 3,
   "metadata": {},
   "outputs": [
    {
     "name": "stdout",
     "output_type": "stream",
     "text": [
      "🧠🌌🔑\n"
     ]
    }
   ],
   "source": [
    "invoke_chain(\"인셉션\")"
   ]
  },
  {
   "cell_type": "code",
   "execution_count": 4,
   "metadata": {},
   "outputs": [
    {
     "name": "stdout",
     "output_type": "stream",
     "text": [
      "매트릭스 💊💻🕶️\n"
     ]
    }
   ],
   "source": [
    "invoke_chain(\"내가 처음 물어본 영화는 무엇이었지?\")"
   ]
  }
 ],
 "metadata": {
  "kernelspec": {
   "display_name": "env",
   "language": "python",
   "name": "python3"
  },
  "language_info": {
   "codemirror_mode": {
    "name": "ipython",
    "version": 3
   },
   "file_extension": ".py",
   "mimetype": "text/x-python",
   "name": "python",
   "nbconvert_exporter": "python",
   "pygments_lexer": "ipython3",
   "version": "3.11.6"
  }
 },
 "nbformat": 4,
 "nbformat_minor": 2
}
